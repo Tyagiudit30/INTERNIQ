{
  "cells": [
    {
      "cell_type": "code",
      "execution_count": 1,
      "metadata": {
        "id": "yvqNBRg7mTrN"
      },
      "outputs": [],
      "source": [
        "# Game Board as a list\n",
        "board = [\"-\", \"-\", \"-\",\n",
        "         \"-\", \"-\", \"-\",\n",
        "         \"-\", \"-\", \"-\"]\n",
        "\n",
        "# Function to print the board\n",
        "def print_board():\n",
        "    print(board[0] + \" | \" + board[1] + \" | \" + board[2])\n",
        "    print(board[3] + \" | \" + board[4] + \" | \" + board[5])\n",
        "    print(board[6] + \" | \" + board[7] + \" | \" + board[8])\n"
      ]
    },
    {
      "cell_type": "code",
      "execution_count": 2,
      "metadata": {
        "id": "DGisNL51Vu9v"
      },
      "outputs": [],
      "source": [
        "# Function for player's turn\n",
        "def take_turn(player):\n",
        "    print(player + \"'s turn.\")\n",
        "    position = input(\"Choose a position from 1-9: \")\n",
        "    while position not in [\"1\", \"2\", \"3\", \"4\", \"5\", \"6\", \"7\", \"8\", \"9\"]:\n",
        "        position = input(\"Invalid input. Choose a position from 1-9: \")\n",
        "    position = int(position) - 1\n",
        "    while board[position] != \"-\":\n",
        "        position = int(input(\"Position already taken. Choose a different position: \")) - 1\n",
        "    board[position] = player\n",
        "    print_board()\n"
      ]
    },
    {
      "cell_type": "code",
      "execution_count": 3,
      "metadata": {
        "id": "wcWyoGsVdbw8"
      },
      "outputs": [],
      "source": [
        "# Function to check Winner\n",
        "def check_game_over():\n",
        "    # Check for a win\n",
        "    if (board[0] == board[1] == board[2] != \"-\") or \\\n",
        "       (board[3] == board[4] == board[5] != \"-\") or \\\n",
        "       (board[6] == board[7] == board[8] != \"-\") or \\\n",
        "       (board[0] == board[3] == board[6] != \"-\") or \\\n",
        "       (board[1] == board[4] == board[7] != \"-\") or \\\n",
        "       (board[2] == board[5] == board[8] != \"-\") or \\\n",
        "       (board[0] == board[4] == board[8] != \"-\") or \\\n",
        "       (board[2] == board[4] == board[6] != \"-\"):\n",
        "        return \"win\"\n",
        "    # Check for a tie\n",
        "    elif \"-\" not in board:\n",
        "        return \"tie\"\n",
        "    # Game is not over\n",
        "    else:\n",
        "        return \"play\""
      ]
    },
    {
      "cell_type": "code",
      "execution_count": 4,
      "metadata": {
        "id": "P_V9kweKdcYV"
      },
      "outputs": [],
      "source": [
        "# Function to Start Game\n",
        "def play_game():\n",
        "    print_board()\n",
        "    current_player = \"X\"\n",
        "    game_over = False\n",
        "    while not game_over:\n",
        "        take_turn(current_player)\n",
        "        game_result = check_game_over()\n",
        "        if game_result == \"win\":\n",
        "            print(current_player + \" wins!\")\n",
        "            game_over = True\n",
        "        elif game_result == \"tie\":\n",
        "            print(\"It's a tie!\")\n",
        "            game_over = True\n",
        "        else:\n",
        "            # Switch to the other player\n",
        "            current_player = \"O\" if current_player == \"X\" else \"X\""
      ]
    },
    {
      "cell_type": "code",
      "execution_count": 5,
      "metadata": {
        "colab": {
          "base_uri": "https://localhost:8080/"
        },
        "id": "9RhZV6FmdnK-",
        "outputId": "027a3fa2-35b9-4fea-a1ec-eb0246f39406"
      },
      "outputs": [
        {
          "output_type": "stream",
          "name": "stdout",
          "text": [
            "- | - | -\n",
            "- | - | -\n",
            "- | - | -\n",
            "X's turn.\n",
            "Choose a position from 1-9: 3\n",
            "- | - | X\n",
            "- | - | -\n",
            "- | - | -\n",
            "O's turn.\n",
            "Choose a position from 1-9: 1\n",
            "O | - | X\n",
            "- | - | -\n",
            "- | - | -\n",
            "X's turn.\n",
            "Choose a position from 1-9: 4\n",
            "O | - | X\n",
            "X | - | -\n",
            "- | - | -\n",
            "O's turn.\n",
            "Choose a position from 1-9: 2\n",
            "O | O | X\n",
            "X | - | -\n",
            "- | - | -\n",
            "X's turn.\n",
            "Choose a position from 1-9: 5\n",
            "O | O | X\n",
            "X | X | -\n",
            "- | - | -\n",
            "O's turn.\n",
            "Choose a position from 1-9: 7\n",
            "O | O | X\n",
            "X | X | -\n",
            "O | - | -\n",
            "X's turn.\n",
            "Choose a position from 1-9: 6\n",
            "O | O | X\n",
            "X | X | X\n",
            "O | - | -\n",
            "X wins!\n"
          ]
        }
      ],
      "source": [
        "play_game()"
      ]
    },
    {
      "cell_type": "code",
      "execution_count": 5,
      "metadata": {
        "id": "Y3Pl7n-6d4hy"
      },
      "outputs": [],
      "source": [
        "6"
      ]
    }
  ],
  "metadata": {
    "colab": {
      "provenance": []
    },
    "kernelspec": {
      "display_name": "Python 3",
      "name": "python3"
    },
    "language_info": {
      "name": "python"
    }
  },
  "nbformat": 4,
  "nbformat_minor": 0
}