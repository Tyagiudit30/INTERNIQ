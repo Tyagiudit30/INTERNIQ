{
 "cells": [
  {
   "cell_type": "code",
   "execution_count": 1,
   "id": "50f5ec0e",
   "metadata": {},
   "outputs": [],
   "source": [
    "from tkinter import *\n",
    "from time import strftime\n"
   ]
  },
  {
   "cell_type": "code",
   "execution_count": 2,
   "id": "819c9fad",
   "metadata": {},
   "outputs": [],
   "source": [
    "root =Tk()"
   ]
  },
  {
   "cell_type": "code",
   "execution_count": 3,
   "id": "911ef94b",
   "metadata": {},
   "outputs": [
    {
     "data": {
      "text/plain": [
       "''"
      ]
     },
     "execution_count": 3,
     "metadata": {},
     "output_type": "execute_result"
    }
   ],
   "source": [
    "root.title(\"Digital clock by UDIT TYAGI\")"
   ]
  },
  {
   "cell_type": "code",
   "execution_count": 4,
   "id": "6165150e",
   "metadata": {},
   "outputs": [],
   "source": [
    "def clock():\n",
    "    tick= strftime(\"%H:%M:%S:%p\")\n",
    "    label.config(text=tick)\n",
    "    label.after(1000,clock)\n",
    "label= Label(root,font=(\"arial\",60),foreground=\"green\",background=\"yellow\")\n",
    "label.pack(anchor=\"center\")"
   ]
  },
  {
   "cell_type": "code",
   "execution_count": 7,
   "id": "b6b6fc1f",
   "metadata": {},
   "outputs": [],
   "source": [
    "clock()\n",
    "root.mainloop()"
   ]
  },
  {
   "cell_type": "code",
   "execution_count": null,
   "id": "7ada6b8b",
   "metadata": {},
   "outputs": [],
   "source": []
  }
 ],
 "metadata": {
  "kernelspec": {
   "display_name": "Python 3 (ipykernel)",
   "language": "python",
   "name": "python3"
  },
  "language_info": {
   "codemirror_mode": {
    "name": "ipython",
    "version": 3
   },
   "file_extension": ".py",
   "mimetype": "text/x-python",
   "name": "python",
   "nbconvert_exporter": "python",
   "pygments_lexer": "ipython3",
   "version": "3.11.5"
  }
 },
 "nbformat": 4,
 "nbformat_minor": 5
}
